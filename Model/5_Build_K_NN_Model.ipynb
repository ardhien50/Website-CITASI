{
  "nbformat": 4,
  "nbformat_minor": 0,
  "metadata": {
    "colab": {
      "provenance": []
    },
    "kernelspec": {
      "name": "python3",
      "display_name": "Python 3"
    },
    "language_info": {
      "name": "python"
    }
  },
  "cells": [
    {
      "cell_type": "code",
      "execution_count": null,
      "metadata": {
        "colab": {
          "base_uri": "https://localhost:8080/"
        },
        "id": "ZP5ZO5zkPwyA",
        "outputId": "7be0df5b-5a36-4807-e936-5e8028c4c9f8"
      },
      "outputs": [
        {
          "output_type": "stream",
          "name": "stdout",
          "text": [
            "Drive already mounted at /content/drive; to attempt to forcibly remount, call drive.mount(\"/content/drive\", force_remount=True).\n"
          ]
        }
      ],
      "source": [
        "# Import library\n",
        "from google.colab import drive\n",
        "\n",
        "# Mount  Google Drive /content/drive\n",
        "drive.mount('/content/drive')"
      ]
    },
    {
      "cell_type": "code",
      "source": [
        "# Import library Pandas\n",
        "import pandas as pd"
      ],
      "metadata": {
        "id": "qy3xL5gHTayo"
      },
      "execution_count": null,
      "outputs": []
    },
    {
      "cell_type": "code",
      "source": [
        "data = pd.read_csv('/content/drive/MyDrive/Dataset/smote_data.csv')\n",
        "newdata = pd.read_csv('/content/drive/MyDrive/Dataset/DataCITASI.csv')"
      ],
      "metadata": {
        "id": "RNbeuUWqTcGQ"
      },
      "execution_count": null,
      "outputs": []
    },
    {
      "cell_type": "code",
      "source": [
        "Xnewdata = newdata[['BOD', 'COD', 'FecalColiform', 'IP']]\n",
        "ynewdata = newdata['Class']"
      ],
      "metadata": {
        "id": "WkS0_r_MUfCv"
      },
      "execution_count": null,
      "outputs": []
    },
    {
      "cell_type": "code",
      "source": [
        "X = data[['BOD', 'COD', 'FecalColiform', 'IP']]\n",
        "y = data['Class']"
      ],
      "metadata": {
        "id": "yDnKlhieTtQm"
      },
      "execution_count": null,
      "outputs": []
    },
    {
      "cell_type": "code",
      "source": [
        "from sklearn.neighbors import KNeighborsClassifier\n",
        "from sklearn.model_selection import train_test_split\n",
        "from sklearn.metrics import accuracy_score, precision_score, recall_score, f1_score, confusion_matrix, classification_report\n",
        "\n",
        "# Assuming 'X' is your feature matrix, and 'y' is your target variable\n",
        "# Split the data into training and testing sets\n",
        "X_train, X_test, y_train, y_test = train_test_split(X, y, test_size=0.9, random_state=42)\n",
        "\n",
        "# Create a K-Nearest Neighbors classifier with Euclidean distance\n",
        "knn_classifier = KNeighborsClassifier(metric='euclidean', p=2, n_neighbors=10)\n",
        "\n",
        "# Train the KNN model\n",
        "knn_classifier.fit(X_train, y_train)\n",
        "\n",
        "# Make predictions on the test set\n",
        "y_pred_knn = knn_classifier.predict(X_test)\n",
        "\n",
        "# Evaluate the KNN model\n",
        "accuracy_knn = accuracy_score(y_test, y_pred_knn)\n",
        "print(\"Accuracy (K-Nearest Neighbors):\", accuracy_knn)\n",
        "\n",
        "precision_knn = precision_score(y_test, y_pred_knn, average='weighted')\n",
        "print(\"Precision (K-Nearest Neighbors):\", precision_knn)\n",
        "\n",
        "recall_knn = recall_score(y_test, y_pred_knn, average='weighted')\n",
        "print(\"Recall (K-Nearest Neighbors):\", recall_knn)\n",
        "\n",
        "f1_knn = f1_score(y_test, y_pred_knn, average='weighted')\n",
        "print(\"F1 Score (K-Nearest Neighbors):\", f1_knn)\n",
        "\n",
        "conf_matrix_knn = confusion_matrix(y_test, y_pred_knn)\n",
        "print(\"Confusion Matrix (K-Nearest Neighbors):\")\n",
        "print(conf_matrix_knn)\n",
        "\n",
        "class_report_knn = classification_report(y_test, y_pred_knn)\n",
        "print(\"Classification Report (K-Nearest Neighbors):\")\n",
        "print(class_report_knn)\n",
        "\n"
      ],
      "metadata": {
        "colab": {
          "base_uri": "https://localhost:8080/"
        },
        "id": "tECgd8W3TzYp",
        "outputId": "2f7930d5-7b25-47b7-84b2-8caaf8ae1e26"
      },
      "execution_count": null,
      "outputs": [
        {
          "output_type": "stream",
          "name": "stdout",
          "text": [
            "Accuracy (K-Nearest Neighbors): 0.9192708333333334\n",
            "Precision (K-Nearest Neighbors): 0.9342193646208793\n",
            "Recall (K-Nearest Neighbors): 0.9192708333333334\n",
            "F1 Score (K-Nearest Neighbors): 0.9178898762485407\n",
            "Confusion Matrix (K-Nearest Neighbors):\n",
            "[[127   0   0]\n",
            " [ 30  98   1]\n",
            " [  0   0 128]]\n",
            "Classification Report (K-Nearest Neighbors):\n",
            "              precision    recall  f1-score   support\n",
            "\n",
            "           1       0.81      1.00      0.89       127\n",
            "           2       1.00      0.76      0.86       129\n",
            "           3       0.99      1.00      1.00       128\n",
            "\n",
            "    accuracy                           0.92       384\n",
            "   macro avg       0.93      0.92      0.92       384\n",
            "weighted avg       0.93      0.92      0.92       384\n",
            "\n"
          ]
        }
      ]
    },
    {
      "cell_type": "code",
      "source": [
        "from sklearn.metrics import accuracy_score, precision_score, recall_score, f1_score, confusion_matrix, classification_report\n",
        "\n",
        "# Use the trained KNN model to make predictions on the new data\n",
        "new_data_predictions = knn_classifier.predict(Xnewdata)\n",
        "\n",
        "# Evaluate the predictions\n",
        "accuracy_new_data = accuracy_score(ynewdata, new_data_predictions)\n",
        "precision_new_data = precision_score(ynewdata, new_data_predictions, average='weighted')\n",
        "recall_new_data = recall_score(ynewdata, new_data_predictions, average='weighted')\n",
        "f1_new_data = f1_score(ynewdata, new_data_predictions, average='weighted')\n",
        "conf_matrix_new_data = confusion_matrix(ynewdata, new_data_predictions)\n",
        "class_report_new_data = classification_report(ynewdata, new_data_predictions)\n",
        "\n",
        "# Print or use the evaluation metrics if needed\n",
        "print(\"Accuracy (New Data):\", accuracy_new_data)\n",
        "print(\"Precision (New Data):\", precision_new_data)\n",
        "print(\"Recall (New Data):\", recall_new_data)\n",
        "print(\"F1 Score (New Data):\", f1_new_data)\n",
        "print(\"Confusion Matrix (New Data):\")\n",
        "print(conf_matrix_new_data)\n",
        "print(\"Classification Report (New Data):\")\n",
        "print(class_report_new_data)\n"
      ],
      "metadata": {
        "colab": {
          "base_uri": "https://localhost:8080/"
        },
        "id": "Mo6_LrYhUBQp",
        "outputId": "e1b8bef0-7d20-445e-c346-fd2d2a5be0dd"
      },
      "execution_count": null,
      "outputs": [
        {
          "output_type": "stream",
          "name": "stdout",
          "text": [
            "Accuracy (New Data): 0.6821782178217822\n",
            "Precision (New Data): 0.6164230708785166\n",
            "Recall (New Data): 0.6821782178217822\n",
            "F1 Score (New Data): 0.5546293982497982\n",
            "Confusion Matrix (New Data):\n",
            "[[  0   1   9   0]\n",
            " [  0   1 305   0]\n",
            " [  0   0 688   0]\n",
            " [  0   0   6   0]]\n",
            "Classification Report (New Data):\n",
            "              precision    recall  f1-score   support\n",
            "\n",
            "           1       0.00      0.00      0.00        10\n",
            "           2       0.50      0.00      0.01       306\n",
            "           3       0.68      1.00      0.81       688\n",
            "           4       0.00      0.00      0.00         6\n",
            "\n",
            "    accuracy                           0.68      1010\n",
            "   macro avg       0.30      0.25      0.20      1010\n",
            "weighted avg       0.62      0.68      0.55      1010\n",
            "\n"
          ]
        },
        {
          "output_type": "stream",
          "name": "stderr",
          "text": [
            "/usr/local/lib/python3.10/dist-packages/sklearn/metrics/_classification.py:1344: UndefinedMetricWarning: Precision is ill-defined and being set to 0.0 in labels with no predicted samples. Use `zero_division` parameter to control this behavior.\n",
            "  _warn_prf(average, modifier, msg_start, len(result))\n",
            "/usr/local/lib/python3.10/dist-packages/sklearn/metrics/_classification.py:1344: UndefinedMetricWarning: Precision and F-score are ill-defined and being set to 0.0 in labels with no predicted samples. Use `zero_division` parameter to control this behavior.\n",
            "  _warn_prf(average, modifier, msg_start, len(result))\n",
            "/usr/local/lib/python3.10/dist-packages/sklearn/metrics/_classification.py:1344: UndefinedMetricWarning: Precision and F-score are ill-defined and being set to 0.0 in labels with no predicted samples. Use `zero_division` parameter to control this behavior.\n",
            "  _warn_prf(average, modifier, msg_start, len(result))\n",
            "/usr/local/lib/python3.10/dist-packages/sklearn/metrics/_classification.py:1344: UndefinedMetricWarning: Precision and F-score are ill-defined and being set to 0.0 in labels with no predicted samples. Use `zero_division` parameter to control this behavior.\n",
            "  _warn_prf(average, modifier, msg_start, len(result))\n"
          ]
        }
      ]
    },
    {
      "cell_type": "code",
      "source": [
        "import matplotlib.pyplot as plt\n",
        "\n",
        "# Define evaluation metrics for both training and new data\n",
        "accuracy_scores = [accuracy_knn, accuracy_new_data]\n",
        "precision_scores = [precision_knn, precision_new_data]\n",
        "recall_scores = [recall_knn, recall_new_data]\n",
        "f1_scores = [f1_knn, f1_new_data]\n",
        "\n",
        "# Define labels for the x-axis\n",
        "labels = ['Training Data', 'New Data']\n",
        "\n",
        "# Plot the comparison graph\n",
        "plt.figure(figsize=(5, 4))\n",
        "\n",
        "plt.subplot(2, 2, 1)\n",
        "plt.bar(labels, accuracy_scores, color=['blue', 'green'])\n",
        "plt.title('Accuracy Comparison')\n",
        "plt.ylim(0, 1)\n",
        "\n",
        "plt.subplot(2, 2, 2)\n",
        "plt.bar(labels, precision_scores, color=['blue', 'green'])\n",
        "plt.title('Precision Comparison')\n",
        "plt.ylim(0, 1)\n",
        "\n",
        "plt.subplot(2, 2, 3)\n",
        "plt.bar(labels, recall_scores, color=['blue', 'green'])\n",
        "plt.title('Recall Comparison')\n",
        "plt.ylim(0, 1)\n",
        "\n",
        "plt.subplot(2, 2, 4)\n",
        "plt.bar(labels, f1_scores, color=['blue', 'green'])\n",
        "plt.title('F1 Score Comparison')\n",
        "plt.ylim(0, 1)\n",
        "\n",
        "plt.tight_layout()\n",
        "plt.show()\n"
      ],
      "metadata": {
        "colab": {
          "base_uri": "https://localhost:8080/",
          "height": 407
        },
        "id": "sIEoAQNDVWGl",
        "outputId": "443cf009-0359-4823-c0fc-ec6064f0342c"
      },
      "execution_count": null,
      "outputs": [
        {
          "output_type": "display_data",
          "data": {
            "text/plain": [
              "<Figure size 500x400 with 4 Axes>"
            ],
            "image/png": "[encoded data removed]"
          },
          "metadata": {}
        }
      ]
    },
    {
      "cell_type": "code",
      "source": [],
      "metadata": {
        "id": "VcgJ2TcPX-0Y"
      },
      "execution_count": null,
      "outputs": []
    }
  ]
}